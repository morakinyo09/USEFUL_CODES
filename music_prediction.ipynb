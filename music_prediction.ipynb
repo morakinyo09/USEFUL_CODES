{
 "cells": [
  {
   "cell_type": "code",
   "execution_count": 7,
   "id": "0ba38db1-96fe-4969-89f6-ef4edec4eb41",
   "metadata": {
    "scrolled": true
   },
   "outputs": [
    {
     "data": {
      "text/plain": [
       "array(['Classical', 'Classical'], dtype=object)"
      ]
     },
     "execution_count": 7,
     "metadata": {},
     "output_type": "execute_result"
    }
   ],
   "source": [
    "import pandas as pd\n",
    "from sklearn.tree import DecisionTreeClassifier\n",
    "\n",
    "df = pd.read_csv(\"music.csv\") #import data\n",
    "\n",
    "X = df.drop(columns=[\"genre\"])\n",
    "y = df[\"genre\"]\n",
    "X = X.values\n",
    "y = y.values\n",
    "\n",
    "model = DecisionTreeClassifier() #traing algorithm+\n",
    "model.fit(X,y) #train\n",
    "\n",
    "predictions = model.predict([ [51,1], [42,0] ]) #predict\n",
    "predictions"
   ]
  },
  {
   "cell_type": "code",
   "execution_count": 55,
   "id": "71097a6f-550a-47af-aa01-012614777400",
   "metadata": {},
   "outputs": [
    {
     "data": {
      "text/plain": [
       "0.25"
      ]
     },
     "execution_count": 55,
     "metadata": {},
     "output_type": "execute_result"
    }
   ],
   "source": [
    "import pandas as pd\n",
    "from sklearn.tree import DecisionTreeClassifier\n",
    "from sklearn.model_selection import train_test_split\n",
    "from sklearn.metrics import accuracy_score\n",
    "#import joblib\n",
    "\n",
    "df = pd.read_csv(\"music.csv\")\n",
    "X = df.drop(columns=[\"genre\"])\n",
    "y = df[\"genre\"]\n",
    "X = X.values\n",
    "y = y.values\n",
    "\n",
    "X_train, X_test, y_train, y_test = train_test_split(X,y, test_size=0.2) #split data\n",
    "\n",
    "model = DecisionTreeClassifier() #create or decide the training model\n",
    "model.fit(X_train,y_train) #train\n",
    "\n",
    "predictions = model.predict( X_test ) #predict\n",
    "score = accuracy_score(y_test, predictions)\n",
    "score"
   ]
  },
  {
   "cell_type": "code",
   "execution_count": 48,
   "id": "4b3613da-deab-4d58-9f8e-5b071ce58f6c",
   "metadata": {},
   "outputs": [
    {
     "data": {
      "text/plain": [
       "['trained_music_selection.joblib']"
      ]
     },
     "execution_count": 48,
     "metadata": {},
     "output_type": "execute_result"
    }
   ],
   "source": [
    "import pandas as pd\n",
    "from sklearn.tree import DecisionTreeClassifier\n",
    "import joblib\n",
    "\n",
    "df = pd.read_csv(\"music.csv\")\n",
    "X = df.drop(columns=[\"genre\"])\n",
    "y = df[\"genre\"]\n",
    "\n",
    "X = X.values\n",
    "y = y.values\n",
    "model = DecisionTreeClassifier() #create a model\n",
    "model.fit(X,y) #train\n",
    "joblib.dump(model,\"trained_music_selection.joblib\")"
   ]
  },
  {
   "cell_type": "code",
   "execution_count": 49,
   "id": "a02eb4f5-e559-412d-8d40-98568ecdb40c",
   "metadata": {},
   "outputs": [
    {
     "data": {
      "text/plain": [
       "array(['HipHop', 'Dance'], dtype=object)"
      ]
     },
     "execution_count": 49,
     "metadata": {},
     "output_type": "execute_result"
    }
   ],
   "source": [
    "import pandas as pd\n",
    "from sklearn.tree import DecisionTreeClassifier\n",
    "import joblib\n",
    "\n",
    "model = joblib.load(\"trained_music_selection.joblib\")\n",
    "predictions = model.predict([ [21,1], [22,0] ])\n",
    "predictions"
   ]
  },
  {
   "cell_type": "code",
   "execution_count": null,
   "id": "3d9bc36d-323d-4061-a032-6ad0a269359b",
   "metadata": {},
   "outputs": [],
   "source": [
    " "
   ]
  }
 ],
 "metadata": {
  "kernelspec": {
   "display_name": "Python 3 (ipykernel)",
   "language": "python",
   "name": "python3"
  },
  "language_info": {
   "codemirror_mode": {
    "name": "ipython",
    "version": 3
   },
   "file_extension": ".py",
   "mimetype": "text/x-python",
   "name": "python",
   "nbconvert_exporter": "python",
   "pygments_lexer": "ipython3",
   "version": "3.11.7"
  }
 },
 "nbformat": 4,
 "nbformat_minor": 5
}
